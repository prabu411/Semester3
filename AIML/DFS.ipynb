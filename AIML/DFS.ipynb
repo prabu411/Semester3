{
 "cells": [
  {
   "cell_type": "code",
   "execution_count": 1,
   "id": "9239f232",
   "metadata": {},
   "outputs": [
    {
     "name": "stderr",
     "output_type": "stream",
     "text": [
      "Matplotlib is building the font cache; this may take a moment.\n"
     ]
    },
    {
     "data": {
      "image/png": "[encoded data removed]",
      "text/plain": [
       "<Figure size 640x480 with 1 Axes>"
      ]
     },
     "metadata": {},
     "output_type": "display_data"
    }
   ],
   "source": [
    "import matplotlib.pyplot as plt\n",
    "from collections import deque\n",
    "\n",
    "\n",
    "def dfs(maze, start, goal):\n",
    "    stack = [(start, [])]  \n",
    "    visited = set()\n",
    "\n",
    "    while stack:\n",
    "        current, path = stack.pop()\n",
    "        if current == goal:\n",
    "            return path + [current]  \n",
    "        if current in visited:\n",
    "            continue\n",
    "        visited.add(current)\n",
    "\n",
    "        x, y = current\n",
    "        for dx, dy in [(0,1), (1,0), (0,-1), (-1,0)]:  \n",
    "            nx, ny = x + dx, y + dy\n",
    "            if 0 <= nx < len(maze) and 0 <= ny < len(maze[0]) and maze[nx][ny] == 0:\n",
    "                stack.append(((nx, ny), path + [current]))\n",
    "    return None  \n",
    "\n",
    "\n",
    "def visualize_maze(maze, start, goal, path=None):\n",
    "    plt.imshow(maze, cmap='Greys')  # Plot maze: 0=white, 1=black\n",
    "    plt.scatter(start[1], start[0], color='yellow', label='Start')  # Start\n",
    "    plt.scatter(goal[1], goal[0], color='purple', label='Goal')    # Goal\n",
    "    if path:\n",
    "        for x, y in path[1:-1]:\n",
    "            plt.scatter(y, x, color='blue')  # Path\n",
    "    plt.legend()\n",
    "    plt.show()\n",
    "\n",
    "\n",
    "maze = [\n",
    "    [0, 1, 0, 0, 0],\n",
    "    [0, 1, 0, 1, 0],\n",
    "    [0, 0, 0, 1, 0],\n",
    "    [1, 1, 0, 1, 0],\n",
    "    [0, 0, 0, 0, 0],\n",
    "]\n",
    "start = (0, 0)\n",
    "goal = (4, 4)\n",
    "\n",
    "path = dfs(maze, start, goal)\n",
    "visualize_maze(maze, start, goal, path)"
   ]
  }
 ],
 "metadata": {
  "kernelspec": {
   "display_name": "Python 3",
   "language": "python",
   "name": "python3"
  },
  "language_info": {
   "codemirror_mode": {
    "name": "ipython",
    "version": 3
   },
   "file_extension": ".py",
   "mimetype": "text/x-python",
   "name": "python",
   "nbconvert_exporter": "python",
   "pygments_lexer": "ipython3",
   "version": "3.11.9"
  }
 },
 "nbformat": 4,
 "nbformat_minor": 5
}
