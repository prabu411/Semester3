{
 "cells": [
  {
   "cell_type": "code",
   "execution_count": null,
   "id": "e87e5b2a",
   "metadata": {},
   "outputs": [],
   "source": [
    "import matplotlib.pyplot as plt\n",
    "from collections import deque\n",
    "\n",
    "def bfs(maze, start, goal):\n",
    "    queue = deque([(start, [])]) \n",
    "    visited = set()\n",
    "\n",
    "    while queue:\n",
    "        current, path = queue.popleft()\n",
    "        if current == goal:\n",
    "            return path + [current]  \n",
    "        if current in visited:\n",
    "            continue \n",
    "        visited.add(current)\n",
    "\n",
    "        x, y = current\n",
    "        for dx, dy in [(0,1), (1,0), (0,-1), (-1,0)]: \n",
    "            nx, ny = x + dx, y + dy\n",
    "            if 0 <= nx < len(maze) and 0 <= ny < len(maze[0]) and maze[nx][ny] == 0:\n",
    "                queue.append(((nx, ny), path + [current]))\n",
    "    return None\n",
    "\n",
    "\n",
    "def visualize_maze(maze, start, goal, path=None):\n",
    "    plt.imshow(maze, cmap='Greys')  \n",
    "    plt.scatter(start[1], start[0], color='yellow', label='Start')  \n",
    "    plt.scatter(goal[1], goal[0], color='purple', label='Goal')    \n",
    "    if path:\n",
    "        for x, y in path[1:-1]:\n",
    "            plt.scatter(y, x, color='green')  \n",
    "    plt.legend()\n",
    "    plt.show()"
   ]
  },
  {
   "cell_type": "code",
   "execution_count": null,
   "id": "7b3c5b78",
   "metadata": {},
   "outputs": [],
   "source": [
    "import networkx as nx\n",
    "import matplotlib.pyplot as plt\n",
    "\n",
    "# Create graph from maze\n",
    "def maze_to_graph(maze):\n",
    "    rows, cols = len(maze), len(maze[0])\n",
    "    G = nx.grid_2d_graph(rows, cols)  # Create grid graph\n",
    "    # Remove walls (nodes where maze[x][y] == 1)\n",
    "    for x in range(rows):\n",
    "        for y in range(cols):\n",
    "            if maze[x][y] == 1:\n",
    "                G.remove_node((x, y))\n",
    "    return G\n",
    "\n",
    "# Visualize maze and path\n",
    "def visualize_maze_graph(G, maze, path, start, goal):\n",
    "    pos = {(x, y): (y, -x) for x, y in G.nodes()}  # Flip Y-axis for display\n",
    "    nx.draw(G, pos, node_color='lightgrey', with_labels=False, node_size=300)\n",
    "    nx.draw_networkx_nodes(G, pos, nodelist=path, node_color='green', label='Path')\n",
    "    nx.draw_networkx_nodes(G, pos, nodelist=[start], node_color='yellow', label='Start')\n",
    "    nx.draw_networkx_nodes(G, pos, nodelist=[goal], node_color='purple', label='Goal')\n",
    "    plt.legend()\n",
    "    plt.show("
   ]
  },
  {
   "cell_type": "code",
   "execution_count": 3,
   "id": "a74abf9c",
   "metadata": {},
   "outputs": [
    {
     "ename": "NameError",
     "evalue": "name 'maze_to_graph' is not defined",
     "output_type": "error",
     "traceback": [
      "\u001b[31m---------------------------------------------------------------------------\u001b[39m",
      "\u001b[31mNameError\u001b[39m                                 Traceback (most recent call last)",
      "\u001b[36mCell\u001b[39m\u001b[36m \u001b[39m\u001b[32mIn[3]\u001b[39m\u001b[32m, line 13\u001b[39m\n\u001b[32m     10\u001b[39m goal = (\u001b[32m4\u001b[39m, \u001b[32m4\u001b[39m)\n\u001b[32m     12\u001b[39m \u001b[38;5;66;03m# Convert maze to graph\u001b[39;00m\n\u001b[32m---> \u001b[39m\u001b[32m13\u001b[39m G = \u001b[43mmaze_to_graph\u001b[49m(maze)\n\u001b[32m     15\u001b[39m \u001b[38;5;66;03m# Find shortest path using BFS\u001b[39;00m\n\u001b[32m     16\u001b[39m \u001b[38;5;28;01mtry\u001b[39;00m:\n",
      "\u001b[31mNameError\u001b[39m: name 'maze_to_graph' is not defined"
     ]
    }
   ],
   "source": [
    "maze = [\n",
    "    [0, 1, 0, 0, 0],\n",
    "    [0, 1, 0, 1, 0],\n",
    "    [0, 0, 0, 1, 0],\n",
    "    [1, 1, 0, 1, 0],\n",
    "    [0, 0, 0, 0, 0]\n",
    "]\n",
    "\n",
    "start = (0, 0)\n",
    "goal = (4, 4)\n",
    "\n",
    "# Convert maze to graph\n",
    "G = maze_to_graph(maze)\n",
    "\n",
    "# Find shortest path using BFS\n",
    "try:\n",
    "    path = nx.shortest_path(G, source=start, target=goal)\n",
    "    print(\"Path found:\", path)\n",
    "    visualize_maze_graph(G, maze, path, start, goal)\n",
    "except nx.NetworkXNoPath:\n",
    "    print(\"No path found from start to goal.\")"
   ]
  },
  {
   "cell_type": "code",
   "execution_count": null,
   "id": "34d70529",
   "metadata": {},
   "outputs": [
    {
     "name": "stdout",
     "output_type": "stream",
     "text": [
      "Path found: [(0, 0), (1, 0), (2, 0), (2, 1), (2, 2), (3, 2), (4, 2), (4, 3), (4, 4)]\n"
     ]
    },
    {
     "data": {
      "image/png": "[encoded data removed]",
      "text/plain": [
       "<Figure size 640x480 with 1 Axes>"
      ]
     },
     "metadata": {},
     "output_type": "display_data"
    }
   ],
   "source": [
    "maze = [\n",
    "    [0, 1, 0, 0, 0],\n",
    "    [0, 1, 0, 1, 0],\n",
    "    [0, 0, 0, 1, 0],\n",
    "    [1, 1, 0, 1, 0],\n",
    "    [0, 0, 0, 0, 0]\n",
    "]\n",
    "\n",
    "start = (0, 0)\n",
    "goal = (4, 4)\n",
    "\n",
    "path = bfs(maze, start, goal)\n",
    "print(\"Path found:\", path)\n",
    "visualize_maze(maze, start, goal, path)"
   ]
  }
 ],
 "metadata": {
  "kernelspec": {
   "display_name": "Python 3",
   "language": "python",
   "name": "python3"
  },
  "language_info": {
   "codemirror_mode": {
    "name": "ipython",
    "version": 3
   },
   "file_extension": ".py",
   "mimetype": "text/x-python",
   "name": "python",
   "nbconvert_exporter": "python",
   "pygments_lexer": "ipython3",
   "version": "3.11.9"
  }
 },
 "nbformat": 4,
 "nbformat_minor": 5
}
